{
 "cells": [
  {
   "cell_type": "markdown",
   "metadata": {},
   "source": [
    "# A One-liner Classifier (Models with Default Parameters)\n",
    "\n",
    "The classifier function _(train_test_plot_def)_ runs the following steps:\n",
    "\n",
    "1. Imports all the necessary packages\n",
    "2. Divides the dataset to the target (y) and the features (X) matrices\n",
    "3. Scales X\n",
    "4. Splits the data to train and test sets\n",
    "5. Selects a classification model\n",
    "6. Trains the model using training set\n",
    "7. Tests the model using testing set\n",
    "8. Gets several scores to evaluate the model, using the test and predicted data\n",
    "9. Plots the confusion matrix\n",
    "10. Plots the feature importance (if that feature is available for the selected algorithm)\n",
    "11. Selects another classification model and goes to step 6, until the list of classifiers is exhausted\n",
    "12. Compares the accuracies of all the models tried out in the form of a bar plot\n",
    "\n",
    "Therefore, we just have to call the function to perform all the steps described above."
   ]
  },
  {
   "cell_type": "markdown",
   "metadata": {},
   "source": [
    "## The Complete Source Code"
   ]
  },
  {
   "cell_type": "code",
   "execution_count": 4,
   "metadata": {},
   "outputs": [],
   "source": [
    "#------------------------------------------------------------------------------------------------------------------\n",
    "# train_test_plot_def\n",
    "#\n",
    "# MIT License \n",
    "# Dr Debdarsan Niyogi (debdarsan.niyogi@gmail.com)\n",
    "#------------------------------------------------------------------------------------------------------------------\n",
    "\n",
    "import pandas as pd\n",
    "import numpy as np\n",
    "import matplotlib.pyplot as plt\n",
    "import seaborn as sns\n",
    "import itertools\n",
    "from IPython.display import HTML\n",
    "\n",
    "from sklearn.preprocessing import StandardScaler\n",
    "from sklearn.model_selection import train_test_split\n",
    "\n",
    "from sklearn.metrics import confusion_matrix\n",
    "from sklearn.metrics import accuracy_score\n",
    "from sklearn.metrics import precision_recall_fscore_support as score\n",
    "\n",
    "# Import LogisticRegression, KNeighborsClassifier, SVM, DecisionTreeClassifier, RandomForestClassifier, XGBClassifier\n",
    "from sklearn.linear_model import LogisticRegression\n",
    "from sklearn.neighbors import KNeighborsClassifier\n",
    "from sklearn import svm\n",
    "from sklearn.tree import DecisionTreeClassifier\n",
    "from sklearn.ensemble import RandomForestClassifier\n",
    "from xgboost import XGBClassifier\n",
    "\n",
    "import warnings\n",
    "warnings.filterwarnings(\"ignore\")\n",
    "\n",
    "# Pre-defined Classifier Models\n",
    "model_lrg = LogisticRegression(max_iter=10000)\n",
    "model_knn = KNeighborsClassifier()\n",
    "model_svm = svm.SVC()\n",
    "model_dtr = DecisionTreeClassifier()\n",
    "model_rfr = RandomForestClassifier()\n",
    "model_xgb = XGBClassifier()\n",
    "\n",
    "# List of pre-defined models \n",
    "models = [model_lrg, model_knn, model_svm, model_dtr, model_rfr, model_xgb]\n",
    "\n",
    "# List of pre-defined model names\n",
    "model_names = ['Logistic Regression', 'K-Neighbors', 'Support Vector', \n",
    "               'Decision Tree', 'Random Forest', 'XGBoost']\n",
    "\n",
    "# First letters of model names\n",
    "model_ids = 'LKSDRX'\n",
    "\n",
    "# Initialize an empty list of classification algorithms\n",
    "algorithm_list = []\n",
    "\n",
    "# Initialize an empty list for the accuracy of each algorithm\n",
    "accuracy_list = []\n",
    "\n",
    "def _plot_confusion_matrix(conf_mat, classes, normalize = False, title = 'Confusion Matrix',\n",
    "                          cmap = plt.cm.Greens, size = 5):\n",
    "    \"\"\"\n",
    "    Plots confusion matrix for binary or multi-class classification\n",
    "       \n",
    "    Parameters:\n",
    "    ----------\n",
    "        conf_mat: confusion matrix, given test and predicted values of the target (dependent) variable\n",
    "        classes: comma separated unique class names of the target variable to be predicted\n",
    "        normalize: boolean flag indicating if normalization is to be applied\n",
    "        title: title of the confusion matrix plot\n",
    "        ax: axes object(s) of the plot\n",
    "        cmap: color map\n",
    "        size: integer controlling size of the plot and the labels proportionally\n",
    "    \n",
    "    Returns:\n",
    "    -------\n",
    "        None\n",
    "    \n",
    "    \"\"\"\n",
    "    \n",
    "    fig, ax = plt.subplots(figsize = (size, size))\n",
    "    ax.set_title(title, fontsize = size + 8)\n",
    "    plt.tick_params(axis = 'x', labelsize = size + 8)\n",
    "    plt.tick_params(axis = 'y', labelsize = size + 8)\n",
    "    tick_marks = np.arange(len(classes))\n",
    "    plt.xticks(tick_marks, classes, rotation = 45, size = size + 8)\n",
    "    plt.yticks(tick_marks, classes, size = size + 8)\n",
    "    plt.sca(ax)\n",
    "    \n",
    "    fmt = '.2f' if normalize else 'd'\n",
    "    thresh = conf_mat.max() / 2.\n",
    "    for i, j in itertools.product(range(conf_mat.shape[0]), range(conf_mat.shape[1])):\n",
    "        ax.text(j, i, format(conf_mat[i, j], fmt),\n",
    "                horizontalalignment = \"center\",\n",
    "                color = \"white\" if conf_mat[i, j] > thresh else \"black\", size = size + 8)\n",
    "\n",
    "    ax.set_ylabel('True Label', fontsize = size + 8)\n",
    "    ax.set_xlabel('Predicted Label', fontsize = size + 8)\n",
    "    ax.imshow(conf_mat, interpolation = 'nearest', cmap = cmap)\n",
    "    \n",
    "    plt.show()\n",
    "    \n",
    "    return\n",
    "\n",
    "    \n",
    "def _compare_algos(algorithm_list, accuracy_list, size = 5):\n",
    "    \n",
    "    \"\"\"\n",
    "    Plots algorithm names vs the testing accuracy figures\n",
    "    \n",
    "    Parameters:\n",
    "    ----------\n",
    "        algorithm_list: list of names of the algorithms\n",
    "        accuracy_list: list of accuracy values\n",
    "        size: integer controlling the size of the plot and the labels proportionally\n",
    "        \n",
    "    Returns:\n",
    "    -------\n",
    "        None    \n",
    "    \n",
    "    \"\"\"\n",
    "    \n",
    "    # Combine the list of algorithms and list of accuracy scores into a dataframe\n",
    "    # and sort the values based on accuracy score\n",
    "    df_accuracy = pd.DataFrame(list(zip(algorithm_list, accuracy_list)), \n",
    "                  columns = ['Algorithm', 'Accuracy Score']).sort_values(by = ['Accuracy Score'], ascending = True)\n",
    "\n",
    "    \n",
    "    # Plot\n",
    "    ax = df_accuracy.plot.barh('Algorithm', 'Accuracy Score', align = 'center', legend = False, color = 'g')\n",
    "\n",
    "    # Add the data labels\n",
    "    for i in ax.patches:\n",
    "        ax.text(i.get_width() + 0.02, i.get_y() + 0.2, str(round(i.get_width(), 2)), fontsize = 10)\n",
    "\n",
    "    # Set the limit\n",
    "    plt.xlim(0, 1.1)\n",
    "    \n",
    "    # Set the lables\n",
    "    plt.xlabel('Test Accuracy Score')\n",
    "    \n",
    "    # Set ticks\n",
    "    # Generate a list of ticks for y-axis\n",
    "    y_ticks = np.arange(len(algorithm_list))\n",
    "    plt.yticks(y_ticks, df_accuracy['Algorithm'], rotation = 0)\n",
    "    \n",
    "    # Set title\n",
    "    plt.title('Algorithm performance')\n",
    "    \n",
    "    # Turn of top and right frames\n",
    "    ax.spines['top'].set_visible(False)\n",
    "    ax.spines['right'].set_visible(False)\n",
    "    \n",
    "    return\n",
    "\n",
    "def train_test_plot_def(df, target, algos, size):\n",
    "    \n",
    "    \"\"\"\n",
    "    Performs the following operations:\n",
    "    ---------------------------------\n",
    "    \n",
    "    1. Splits the dataframe into target (dependent variable) and predictors (independent variable)\n",
    "    2. Scales the values of independent variables (all input values must be numeric)\n",
    "    3. Splits the dataset into training and testing sets\n",
    "    4. Loops through the list of classification algorithms to\n",
    "       a) Train\n",
    "       b) Test\n",
    "       c) Evaluate and report performance\n",
    "       d) Plot Confusion Matrix\n",
    "       e) Plot feature importance (if it is available for this particular algorithm)\n",
    "    5. Shows comparative plot of accuracies for all the algorithms\n",
    "       \n",
    "    Parameters:\n",
    "    ----------\n",
    "       df (pandas dataframe): the whole dataset containing observations for both target and predictor variables\n",
    "       \n",
    "       target (string): column name of the target variable in df, e.g. 'Species'\n",
    "       \n",
    "       algos (comma separated character string): the first letters of classification algorithms to be applied, e.g. l,r,x\n",
    "           \n",
    "           l: LogisticRegression\n",
    "           k: KNeighborsClassifier\n",
    "           s: Support Vector Machine \n",
    "           d: DecisionTreeClassifier\n",
    "           r: RandomForestClassifier\n",
    "           x: XGBClassifier\n",
    "           \n",
    "       size (int): size of the plots, typical values are 5, 10, 15\n",
    "       \n",
    "    Returns:\n",
    "    -------\n",
    "        None\n",
    "       \n",
    "    Example:\n",
    "    -------\n",
    "       train_test_plot_def(iris_df, 'Species', 'l,r,x', 5)\n",
    "       where,\n",
    "            iris_df: input dataframe,  e.g. iris_df = pd.read_csv('Iris.csv')\n",
    "            'Species': name of the target column in iris_df\n",
    "            'l,r,x': first letters of (L)ogisticRegression', (R)andomForestClassifier and (X)GBClassifier (case insensitive)\n",
    "            5: size of the plots generated\n",
    "    \"\"\" \n",
    "    \n",
    "    # set X and y\n",
    "    y = df[target]\n",
    "    X = df.drop(target, axis = 1)\n",
    "\n",
    "    # scale X\n",
    "    X = StandardScaler().fit(X).transform(X)\n",
    "\n",
    "    # Split the data set into training and testing data sets\n",
    "    X_train, X_test, y_train, y_test = train_test_split(X, y, test_size = 0.2, random_state = 42, stratify = y)\n",
    "    \n",
    "    # Target class names\n",
    "    classes = np.unique(df[target])\n",
    "    \n",
    "    algorithm_list = []\n",
    "    accuracy_list = []\n",
    "    algos_selected = algos.upper().split(',')\n",
    "    \n",
    "    for i in range(len(algos_selected)):\n",
    "        this_algo = algos_selected[i].strip()\n",
    "        indx = model_ids.index(this_algo)\n",
    "        model = models[indx]\n",
    "        algorithm_list.append(model_names[indx])\n",
    "        model.fit(X_train, y_train)\n",
    "        y_pred = model.predict(X_test)\n",
    "        \n",
    "        disp_line = '<h1>' + model_names[indx] + '</h1>'\n",
    "        display(HTML(disp_line))\n",
    "        disp_line = '<h2>Scores:</h2>'\n",
    "        display(HTML(disp_line))\n",
    "        \n",
    "        acc = accuracy_score(y_test, y_pred)\n",
    "        precision, recall, fscore, support = score(y_test, y_pred)\n",
    "        \n",
    "        score_df = pd.DataFrame(list(zip(precision, recall, fscore, support)), \n",
    "                   columns = ['Precision', 'Recall', 'F1-score', 'Support'])\n",
    "        score_df = pd.concat([pd.DataFrame(classes), score_df], axis = 1)        \n",
    "        score_df.columns = ['Target Class', 'Precision', 'Recall', 'F1-score', 'Support'] \n",
    "        display(HTML(score_df.to_html(index = False)))\n",
    "\n",
    "        accuracy_list.append(acc)\n",
    "        cm_model = confusion_matrix(y_test, y_pred)\n",
    "        \n",
    "        _plot_confusion_matrix(cm_model, classes = classes, \n",
    "                               title = model_names[indx] + '\\nTest Accuracy: {:.2f}'.format(acc), size = size)\n",
    "       \n",
    "        if hasattr(model, 'feature_importances_'):\n",
    "        \n",
    "            fig, ax = plt.subplots(figsize = (size, size))\n",
    "            plt.tick_params(axis = 'x', labelsize = size + 8)\n",
    "            plt.tick_params(axis = 'y', labelsize = size + 8)\n",
    "            plt.xticks(size = size + 8)\n",
    "            plt.yticks(size = size + 8)\n",
    "            plt.xlabel('')\n",
    "            ax.set_title('Feature Importance (using '+ model_names[indx]+')', fontsize=size+10)\n",
    "            \n",
    "            importances = pd.DataFrame(np.zeros((X_train.shape[1], 1)), columns = ['Importance'], \n",
    "                                       index = df.drop(target, axis = 1).columns)\n",
    "            importances.iloc[:,0] = model.feature_importances_\n",
    "            importances.sort_values(by = 'Importance', inplace = True, ascending = False)\n",
    "            \n",
    "            top_importances = importances.head(10)\n",
    "            \n",
    "            sns.barplot(x = 'Importance', y = top_importances.index, data = top_importances)\n",
    "            \n",
    "            plt.show()\n",
    "    \n",
    "    _compare_algos(algorithm_list, accuracy_list, size = size)\n",
    "    \n",
    "    return"
   ]
  },
  {
   "cell_type": "markdown",
   "metadata": {},
   "source": [
    "## Load Data"
   ]
  },
  {
   "cell_type": "code",
   "execution_count": 5,
   "metadata": {},
   "outputs": [
    {
     "data": {
      "text/html": [
       "<div>\n",
       "<style scoped>\n",
       "    .dataframe tbody tr th:only-of-type {\n",
       "        vertical-align: middle;\n",
       "    }\n",
       "\n",
       "    .dataframe tbody tr th {\n",
       "        vertical-align: top;\n",
       "    }\n",
       "\n",
       "    .dataframe thead th {\n",
       "        text-align: right;\n",
       "    }\n",
       "</style>\n",
       "<table border=\"1\" class=\"dataframe\">\n",
       "  <thead>\n",
       "    <tr style=\"text-align: right;\">\n",
       "      <th></th>\n",
       "      <th>Refractive Index</th>\n",
       "      <th>Sodium</th>\n",
       "      <th>Magnesium</th>\n",
       "      <th>Aluminium</th>\n",
       "      <th>Silicone</th>\n",
       "      <th>Potassium</th>\n",
       "      <th>Calcium</th>\n",
       "      <th>Barium</th>\n",
       "      <th>Iron</th>\n",
       "      <th>Glass Class</th>\n",
       "    </tr>\n",
       "  </thead>\n",
       "  <tbody>\n",
       "    <tr>\n",
       "      <th>0</th>\n",
       "      <td>1.52101</td>\n",
       "      <td>13.64</td>\n",
       "      <td>4.49</td>\n",
       "      <td>1.10</td>\n",
       "      <td>71.78</td>\n",
       "      <td>0.06</td>\n",
       "      <td>8.75</td>\n",
       "      <td>0.0</td>\n",
       "      <td>0.0</td>\n",
       "      <td>1</td>\n",
       "    </tr>\n",
       "    <tr>\n",
       "      <th>1</th>\n",
       "      <td>1.51761</td>\n",
       "      <td>13.89</td>\n",
       "      <td>3.60</td>\n",
       "      <td>1.36</td>\n",
       "      <td>72.73</td>\n",
       "      <td>0.48</td>\n",
       "      <td>7.83</td>\n",
       "      <td>0.0</td>\n",
       "      <td>0.0</td>\n",
       "      <td>1</td>\n",
       "    </tr>\n",
       "    <tr>\n",
       "      <th>2</th>\n",
       "      <td>1.51618</td>\n",
       "      <td>13.53</td>\n",
       "      <td>3.55</td>\n",
       "      <td>1.54</td>\n",
       "      <td>72.99</td>\n",
       "      <td>0.39</td>\n",
       "      <td>7.78</td>\n",
       "      <td>0.0</td>\n",
       "      <td>0.0</td>\n",
       "      <td>1</td>\n",
       "    </tr>\n",
       "    <tr>\n",
       "      <th>3</th>\n",
       "      <td>1.51766</td>\n",
       "      <td>13.21</td>\n",
       "      <td>3.69</td>\n",
       "      <td>1.29</td>\n",
       "      <td>72.61</td>\n",
       "      <td>0.57</td>\n",
       "      <td>8.22</td>\n",
       "      <td>0.0</td>\n",
       "      <td>0.0</td>\n",
       "      <td>1</td>\n",
       "    </tr>\n",
       "    <tr>\n",
       "      <th>4</th>\n",
       "      <td>1.51742</td>\n",
       "      <td>13.27</td>\n",
       "      <td>3.62</td>\n",
       "      <td>1.24</td>\n",
       "      <td>73.08</td>\n",
       "      <td>0.55</td>\n",
       "      <td>8.07</td>\n",
       "      <td>0.0</td>\n",
       "      <td>0.0</td>\n",
       "      <td>1</td>\n",
       "    </tr>\n",
       "  </tbody>\n",
       "</table>\n",
       "</div>"
      ],
      "text/plain": [
       "   Refractive Index  Sodium  Magnesium  Aluminium  Silicone  Potassium  \\\n",
       "0           1.52101   13.64       4.49       1.10     71.78       0.06   \n",
       "1           1.51761   13.89       3.60       1.36     72.73       0.48   \n",
       "2           1.51618   13.53       3.55       1.54     72.99       0.39   \n",
       "3           1.51766   13.21       3.69       1.29     72.61       0.57   \n",
       "4           1.51742   13.27       3.62       1.24     73.08       0.55   \n",
       "\n",
       "   Calcium  Barium  Iron  Glass Class  \n",
       "0     8.75     0.0   0.0            1  \n",
       "1     7.83     0.0   0.0            1  \n",
       "2     7.78     0.0   0.0            1  \n",
       "3     8.22     0.0   0.0            1  \n",
       "4     8.07     0.0   0.0            1  "
      ]
     },
     "execution_count": 5,
     "metadata": {},
     "output_type": "execute_result"
    }
   ],
   "source": [
    "df = pd.read_csv('glass.csv')\n",
    "df.head()"
   ]
  },
  {
   "cell_type": "markdown",
   "metadata": {},
   "source": [
    "## Call Classifier"
   ]
  },
  {
   "cell_type": "code",
   "execution_count": 6,
   "metadata": {
    "scrolled": false
   },
   "outputs": [
    {
     "data": {
      "text/html": [
       "<h1>Logistic Regression</h1>"
      ],
      "text/plain": [
       "<IPython.core.display.HTML object>"
      ]
     },
     "metadata": {},
     "output_type": "display_data"
    },
    {
     "data": {
      "text/html": [
       "<h2>Scores:</h2>"
      ],
      "text/plain": [
       "<IPython.core.display.HTML object>"
      ]
     },
     "metadata": {},
     "output_type": "display_data"
    },
    {
     "data": {
      "text/html": [
       "<table border=\"1\" class=\"dataframe\">\n",
       "  <thead>\n",
       "    <tr style=\"text-align: right;\">\n",
       "      <th>Target Class</th>\n",
       "      <th>Precision</th>\n",
       "      <th>Recall</th>\n",
       "      <th>F1-score</th>\n",
       "      <th>Support</th>\n",
       "    </tr>\n",
       "  </thead>\n",
       "  <tbody>\n",
       "    <tr>\n",
       "      <td>1</td>\n",
       "      <td>0.714286</td>\n",
       "      <td>0.714286</td>\n",
       "      <td>0.714286</td>\n",
       "      <td>14</td>\n",
       "    </tr>\n",
       "    <tr>\n",
       "      <td>2</td>\n",
       "      <td>0.687500</td>\n",
       "      <td>0.733333</td>\n",
       "      <td>0.709677</td>\n",
       "      <td>15</td>\n",
       "    </tr>\n",
       "    <tr>\n",
       "      <td>3</td>\n",
       "      <td>0.000000</td>\n",
       "      <td>0.000000</td>\n",
       "      <td>0.000000</td>\n",
       "      <td>3</td>\n",
       "    </tr>\n",
       "    <tr>\n",
       "      <td>5</td>\n",
       "      <td>1.000000</td>\n",
       "      <td>1.000000</td>\n",
       "      <td>1.000000</td>\n",
       "      <td>3</td>\n",
       "    </tr>\n",
       "    <tr>\n",
       "      <td>6</td>\n",
       "      <td>0.666667</td>\n",
       "      <td>1.000000</td>\n",
       "      <td>0.800000</td>\n",
       "      <td>2</td>\n",
       "    </tr>\n",
       "    <tr>\n",
       "      <td>7</td>\n",
       "      <td>1.000000</td>\n",
       "      <td>1.000000</td>\n",
       "      <td>1.000000</td>\n",
       "      <td>6</td>\n",
       "    </tr>\n",
       "  </tbody>\n",
       "</table>"
      ],
      "text/plain": [
       "<IPython.core.display.HTML object>"
      ]
     },
     "metadata": {},
     "output_type": "display_data"
    },
    {
     "data": {
      "image/png": "[encoded data removed]",
      "text/plain": [
       "<Figure size 360x360 with 1 Axes>"
      ]
     },
     "metadata": {
      "needs_background": "light"
     },
     "output_type": "display_data"
    },
    {
     "data": {
      "text/html": [
       "<h1>K-Neighbors</h1>"
      ],
      "text/plain": [
       "<IPython.core.display.HTML object>"
      ]
     },
     "metadata": {},
     "output_type": "display_data"
    },
    {
     "data": {
      "text/html": [
       "<h2>Scores:</h2>"
      ],
      "text/plain": [
       "<IPython.core.display.HTML object>"
      ]
     },
     "metadata": {},
     "output_type": "display_data"
    },
    {
     "data": {
      "text/html": [
       "<table border=\"1\" class=\"dataframe\">\n",
       "  <thead>\n",
       "    <tr style=\"text-align: right;\">\n",
       "      <th>Target Class</th>\n",
       "      <th>Precision</th>\n",
       "      <th>Recall</th>\n",
       "      <th>F1-score</th>\n",
       "      <th>Support</th>\n",
       "    </tr>\n",
       "  </thead>\n",
       "  <tbody>\n",
       "    <tr>\n",
       "      <td>1</td>\n",
       "      <td>0.733333</td>\n",
       "      <td>0.785714</td>\n",
       "      <td>0.758621</td>\n",
       "      <td>14</td>\n",
       "    </tr>\n",
       "    <tr>\n",
       "      <td>2</td>\n",
       "      <td>0.647059</td>\n",
       "      <td>0.733333</td>\n",
       "      <td>0.687500</td>\n",
       "      <td>15</td>\n",
       "    </tr>\n",
       "    <tr>\n",
       "      <td>3</td>\n",
       "      <td>0.000000</td>\n",
       "      <td>0.000000</td>\n",
       "      <td>0.000000</td>\n",
       "      <td>3</td>\n",
       "    </tr>\n",
       "    <tr>\n",
       "      <td>5</td>\n",
       "      <td>0.500000</td>\n",
       "      <td>0.666667</td>\n",
       "      <td>0.571429</td>\n",
       "      <td>3</td>\n",
       "    </tr>\n",
       "    <tr>\n",
       "      <td>6</td>\n",
       "      <td>1.000000</td>\n",
       "      <td>0.500000</td>\n",
       "      <td>0.666667</td>\n",
       "      <td>2</td>\n",
       "    </tr>\n",
       "    <tr>\n",
       "      <td>7</td>\n",
       "      <td>0.833333</td>\n",
       "      <td>0.833333</td>\n",
       "      <td>0.833333</td>\n",
       "      <td>6</td>\n",
       "    </tr>\n",
       "  </tbody>\n",
       "</table>"
      ],
      "text/plain": [
       "<IPython.core.display.HTML object>"
      ]
     },
     "metadata": {},
     "output_type": "display_data"
    },
    {
     "data": {
      "image/png": "[encoded data removed]",
      "text/plain": [
       "<Figure size 360x360 with 1 Axes>"
      ]
     },
     "metadata": {
      "needs_background": "light"
     },
     "output_type": "display_data"
    },
    {
     "data": {
      "text/html": [
       "<h1>Support Vector</h1>"
      ],
      "text/plain": [
       "<IPython.core.display.HTML object>"
      ]
     },
     "metadata": {},
     "output_type": "display_data"
    },
    {
     "data": {
      "text/html": [
       "<h2>Scores:</h2>"
      ],
      "text/plain": [
       "<IPython.core.display.HTML object>"
      ]
     },
     "metadata": {},
     "output_type": "display_data"
    },
    {
     "data": {
      "text/html": [
       "<table border=\"1\" class=\"dataframe\">\n",
       "  <thead>\n",
       "    <tr style=\"text-align: right;\">\n",
       "      <th>Target Class</th>\n",
       "      <th>Precision</th>\n",
       "      <th>Recall</th>\n",
       "      <th>F1-score</th>\n",
       "      <th>Support</th>\n",
       "    </tr>\n",
       "  </thead>\n",
       "  <tbody>\n",
       "    <tr>\n",
       "      <td>1</td>\n",
       "      <td>0.687500</td>\n",
       "      <td>0.785714</td>\n",
       "      <td>0.733333</td>\n",
       "      <td>14</td>\n",
       "    </tr>\n",
       "    <tr>\n",
       "      <td>2</td>\n",
       "      <td>0.687500</td>\n",
       "      <td>0.733333</td>\n",
       "      <td>0.709677</td>\n",
       "      <td>15</td>\n",
       "    </tr>\n",
       "    <tr>\n",
       "      <td>3</td>\n",
       "      <td>0.000000</td>\n",
       "      <td>0.000000</td>\n",
       "      <td>0.000000</td>\n",
       "      <td>3</td>\n",
       "    </tr>\n",
       "    <tr>\n",
       "      <td>5</td>\n",
       "      <td>1.000000</td>\n",
       "      <td>0.666667</td>\n",
       "      <td>0.800000</td>\n",
       "      <td>3</td>\n",
       "    </tr>\n",
       "    <tr>\n",
       "      <td>6</td>\n",
       "      <td>0.500000</td>\n",
       "      <td>0.500000</td>\n",
       "      <td>0.500000</td>\n",
       "      <td>2</td>\n",
       "    </tr>\n",
       "    <tr>\n",
       "      <td>7</td>\n",
       "      <td>0.857143</td>\n",
       "      <td>1.000000</td>\n",
       "      <td>0.923077</td>\n",
       "      <td>6</td>\n",
       "    </tr>\n",
       "  </tbody>\n",
       "</table>"
      ],
      "text/plain": [
       "<IPython.core.display.HTML object>"
      ]
     },
     "metadata": {},
     "output_type": "display_data"
    },
    {
     "data": {
      "image/png": "[encoded data removed]",
      "text/plain": [
       "<Figure size 360x360 with 1 Axes>"
      ]
     },
     "metadata": {
      "needs_background": "light"
     },
     "output_type": "display_data"
    },
    {
     "data": {
      "text/html": [
       "<h1>Decision Tree</h1>"
      ],
      "text/plain": [
       "<IPython.core.display.HTML object>"
      ]
     },
     "metadata": {},
     "output_type": "display_data"
    },
    {
     "data": {
      "text/html": [
       "<h2>Scores:</h2>"
      ],
      "text/plain": [
       "<IPython.core.display.HTML object>"
      ]
     },
     "metadata": {},
     "output_type": "display_data"
    },
    {
     "data": {
      "text/html": [
       "<table border=\"1\" class=\"dataframe\">\n",
       "  <thead>\n",
       "    <tr style=\"text-align: right;\">\n",
       "      <th>Target Class</th>\n",
       "      <th>Precision</th>\n",
       "      <th>Recall</th>\n",
       "      <th>F1-score</th>\n",
       "      <th>Support</th>\n",
       "    </tr>\n",
       "  </thead>\n",
       "  <tbody>\n",
       "    <tr>\n",
       "      <td>1</td>\n",
       "      <td>0.727273</td>\n",
       "      <td>0.571429</td>\n",
       "      <td>0.640000</td>\n",
       "      <td>14</td>\n",
       "    </tr>\n",
       "    <tr>\n",
       "      <td>2</td>\n",
       "      <td>0.700000</td>\n",
       "      <td>0.466667</td>\n",
       "      <td>0.560000</td>\n",
       "      <td>15</td>\n",
       "    </tr>\n",
       "    <tr>\n",
       "      <td>3</td>\n",
       "      <td>0.285714</td>\n",
       "      <td>0.666667</td>\n",
       "      <td>0.400000</td>\n",
       "      <td>3</td>\n",
       "    </tr>\n",
       "    <tr>\n",
       "      <td>5</td>\n",
       "      <td>0.666667</td>\n",
       "      <td>0.666667</td>\n",
       "      <td>0.666667</td>\n",
       "      <td>3</td>\n",
       "    </tr>\n",
       "    <tr>\n",
       "      <td>6</td>\n",
       "      <td>0.250000</td>\n",
       "      <td>0.500000</td>\n",
       "      <td>0.333333</td>\n",
       "      <td>2</td>\n",
       "    </tr>\n",
       "    <tr>\n",
       "      <td>7</td>\n",
       "      <td>0.750000</td>\n",
       "      <td>1.000000</td>\n",
       "      <td>0.857143</td>\n",
       "      <td>6</td>\n",
       "    </tr>\n",
       "  </tbody>\n",
       "</table>"
      ],
      "text/plain": [
       "<IPython.core.display.HTML object>"
      ]
     },
     "metadata": {},
     "output_type": "display_data"
    },
    {
     "data": {
      "image/png": "[encoded data removed]",
      "text/plain": [
       "<Figure size 360x360 with 1 Axes>"
      ]
     },
     "metadata": {
      "needs_background": "light"
     },
     "output_type": "display_data"
    },
    {
     "data": {
      "image/png": "[encoded data removed]",
      "text/plain": [
       "<Figure size 360x360 with 1 Axes>"
      ]
     },
     "metadata": {
      "needs_background": "light"
     },
     "output_type": "display_data"
    },
    {
     "data": {
      "text/html": [
       "<h1>Random Forest</h1>"
      ],
      "text/plain": [
       "<IPython.core.display.HTML object>"
      ]
     },
     "metadata": {},
     "output_type": "display_data"
    },
    {
     "data": {
      "text/html": [
       "<h2>Scores:</h2>"
      ],
      "text/plain": [
       "<IPython.core.display.HTML object>"
      ]
     },
     "metadata": {},
     "output_type": "display_data"
    },
    {
     "data": {
      "text/html": [
       "<table border=\"1\" class=\"dataframe\">\n",
       "  <thead>\n",
       "    <tr style=\"text-align: right;\">\n",
       "      <th>Target Class</th>\n",
       "      <th>Precision</th>\n",
       "      <th>Recall</th>\n",
       "      <th>F1-score</th>\n",
       "      <th>Support</th>\n",
       "    </tr>\n",
       "  </thead>\n",
       "  <tbody>\n",
       "    <tr>\n",
       "      <td>1</td>\n",
       "      <td>0.750000</td>\n",
       "      <td>0.857143</td>\n",
       "      <td>0.800000</td>\n",
       "      <td>14</td>\n",
       "    </tr>\n",
       "    <tr>\n",
       "      <td>2</td>\n",
       "      <td>0.785714</td>\n",
       "      <td>0.733333</td>\n",
       "      <td>0.758621</td>\n",
       "      <td>15</td>\n",
       "    </tr>\n",
       "    <tr>\n",
       "      <td>3</td>\n",
       "      <td>1.000000</td>\n",
       "      <td>0.666667</td>\n",
       "      <td>0.800000</td>\n",
       "      <td>3</td>\n",
       "    </tr>\n",
       "    <tr>\n",
       "      <td>5</td>\n",
       "      <td>1.000000</td>\n",
       "      <td>0.666667</td>\n",
       "      <td>0.800000</td>\n",
       "      <td>3</td>\n",
       "    </tr>\n",
       "    <tr>\n",
       "      <td>6</td>\n",
       "      <td>0.666667</td>\n",
       "      <td>1.000000</td>\n",
       "      <td>0.800000</td>\n",
       "      <td>2</td>\n",
       "    </tr>\n",
       "    <tr>\n",
       "      <td>7</td>\n",
       "      <td>1.000000</td>\n",
       "      <td>1.000000</td>\n",
       "      <td>1.000000</td>\n",
       "      <td>6</td>\n",
       "    </tr>\n",
       "  </tbody>\n",
       "</table>"
      ],
      "text/plain": [
       "<IPython.core.display.HTML object>"
      ]
     },
     "metadata": {},
     "output_type": "display_data"
    },
    {
     "data": {
      "image/png": "[encoded data removed]",
      "text/plain": [
       "<Figure size 360x360 with 1 Axes>"
      ]
     },
     "metadata": {
      "needs_background": "light"
     },
     "output_type": "display_data"
    },
    {
     "data": {
      "image/png": "[encoded data removed]",
      "text/plain": [
       "<Figure size 360x360 with 1 Axes>"
      ]
     },
     "metadata": {
      "needs_background": "light"
     },
     "output_type": "display_data"
    },
    {
     "data": {
      "text/html": [
       "<h1>XGBoost</h1>"
      ],
      "text/plain": [
       "<IPython.core.display.HTML object>"
      ]
     },
     "metadata": {},
     "output_type": "display_data"
    },
    {
     "data": {
      "text/html": [
       "<h2>Scores:</h2>"
      ],
      "text/plain": [
       "<IPython.core.display.HTML object>"
      ]
     },
     "metadata": {},
     "output_type": "display_data"
    },
    {
     "data": {
      "text/html": [
       "<table border=\"1\" class=\"dataframe\">\n",
       "  <thead>\n",
       "    <tr style=\"text-align: right;\">\n",
       "      <th>Target Class</th>\n",
       "      <th>Precision</th>\n",
       "      <th>Recall</th>\n",
       "      <th>F1-score</th>\n",
       "      <th>Support</th>\n",
       "    </tr>\n",
       "  </thead>\n",
       "  <tbody>\n",
       "    <tr>\n",
       "      <td>1</td>\n",
       "      <td>0.800000</td>\n",
       "      <td>0.857143</td>\n",
       "      <td>0.827586</td>\n",
       "      <td>14</td>\n",
       "    </tr>\n",
       "    <tr>\n",
       "      <td>2</td>\n",
       "      <td>0.833333</td>\n",
       "      <td>0.666667</td>\n",
       "      <td>0.740741</td>\n",
       "      <td>15</td>\n",
       "    </tr>\n",
       "    <tr>\n",
       "      <td>3</td>\n",
       "      <td>0.666667</td>\n",
       "      <td>0.666667</td>\n",
       "      <td>0.666667</td>\n",
       "      <td>3</td>\n",
       "    </tr>\n",
       "    <tr>\n",
       "      <td>5</td>\n",
       "      <td>0.750000</td>\n",
       "      <td>1.000000</td>\n",
       "      <td>0.857143</td>\n",
       "      <td>3</td>\n",
       "    </tr>\n",
       "    <tr>\n",
       "      <td>6</td>\n",
       "      <td>0.666667</td>\n",
       "      <td>1.000000</td>\n",
       "      <td>0.800000</td>\n",
       "      <td>2</td>\n",
       "    </tr>\n",
       "    <tr>\n",
       "      <td>7</td>\n",
       "      <td>0.833333</td>\n",
       "      <td>0.833333</td>\n",
       "      <td>0.833333</td>\n",
       "      <td>6</td>\n",
       "    </tr>\n",
       "  </tbody>\n",
       "</table>"
      ],
      "text/plain": [
       "<IPython.core.display.HTML object>"
      ]
     },
     "metadata": {},
     "output_type": "display_data"
    },
    {
     "data": {
      "image/png": "[encoded data removed]",
      "text/plain": [
       "<Figure size 360x360 with 1 Axes>"
      ]
     },
     "metadata": {
      "needs_background": "light"
     },
     "output_type": "display_data"
    },
    {
     "data": {
      "image/png": "[encoded data removed]",
      "text/plain": [
       "<Figure size 360x360 with 1 Axes>"
      ]
     },
     "metadata": {
      "needs_background": "light"
     },
     "output_type": "display_data"
    },
    {
     "data": {
      "image/png": "[encoded data removed]",
      "text/plain": [
       "<Figure size 432x288 with 1 Axes>"
      ]
     },
     "metadata": {
      "needs_background": "light"
     },
     "output_type": "display_data"
    }
   ],
   "source": [
    "# Target variable\n",
    "target='Glass Class'\n",
    "\n",
    "# Call classifier\n",
    "train_test_plot_def(df=df, target=target, algos='L,k,s,d,r,x', size=5)"
   ]
  },
  {
   "cell_type": "markdown",
   "metadata": {},
   "source": [
    "# Note\n",
    "Here, we are limited to **6** classification algorithms _**Logistic Regression, K-Neighbors, Support Vector Machine, Decision Tree, Random Forest** and **XGBoost**_. Moreover, the hyperparameter tuning has not been done, the classifiers are called mostly with their default parameters (hence the suffix *'_def'* in the function name. The 'Feature Importance' are plotted only for those algorithms which supports the **'feature_importances_'** function. A run-time check is performed and if it is not available for an algorithm, the plot is skipped. So, for Logistic Regression, K-Neighbors, Support Vector Machnie, we do not see any such plot."
   ]
  },
  {
   "cell_type": "markdown",
   "metadata": {},
   "source": [
    "# Future Work\n",
    "\n",
    "1. In stead of using default classifiers, the hyperparameters are also to be specified.\n",
    "2. Deploying the package to PyPI, and documenting the detailed steps required."
   ]
  },
  {
   "cell_type": "code",
   "execution_count": null,
   "metadata": {},
   "outputs": [],
   "source": []
  }
 ],
 "metadata": {
  "kernelspec": {
   "display_name": "Python 3",
   "language": "python",
   "name": "python3"
  },
  "language_info": {
   "codemirror_mode": {
    "name": "ipython",
    "version": 3
   },
   "file_extension": ".py",
   "mimetype": "text/x-python",
   "name": "python",
   "nbconvert_exporter": "python",
   "pygments_lexer": "ipython3",
   "version": "3.8.3"
  }
 },
 "nbformat": 4,
 "nbformat_minor": 4
}
